{
 "cells": [
  {
   "cell_type": "markdown",
   "id": "0429ec3b",
   "metadata": {},
   "source": [
    "Importing Libraries"
   ]
  },
  {
   "cell_type": "code",
   "execution_count": 1,
   "id": "33a87aa4",
   "metadata": {},
   "outputs": [],
   "source": [
    "import numpy as np\n",
    "import pandas as pd\n",
    "import scipy.stats as stats\n",
    "import statsmodels.api as sm\n",
    "from statsmodels.formula.api import ols\n",
    "from sklearn.feature_selection import SelectKBest, chi2\n",
    "from sklearn.feature_selection import mutual_info_classif\n",
    "from sklearn.linear_model import LinearRegression, LogisticRegression\n",
    "from sklearn.feature_selection import RFE, f_regression\n",
    "from matplotlib import pyplot as plt\n",
    "import seaborn as sns\n",
    "from sklearn.ensemble import RandomForestClassifier\n",
    "from sklearn import metrics\n",
    "from sklearn.model_selection import train_test_split,  GridSearchCV\n",
    "from xgboost import XGBClassifier, plot_tree, XGBRegressor\n",
    "from sklearn import preprocessing\n",
    "from sklearn.manifold import TSNE\n",
    "from sklearn.svm import SVC\n",
    "from imblearn.over_sampling import SMOTE\n",
    "from imblearn.combine import SMOTEENN, SMOTETomek\n",
    "from sklearn.neighbors import KNeighborsClassifier"
   ]
  },
  {
   "cell_type": "code",
   "execution_count": 2,
   "id": "022ee639",
   "metadata": {},
   "outputs": [],
   "source": [
    "df = pd.read_csv('https://raw.githubusercontent.com/shardulchavan/-PREDICTIVE-MODELING-FOR-PRUDENTIAL-LIFE-INSURANCE-ASSESSMENT-/main/train.csv')"
   ]
  },
  {
   "cell_type": "code",
   "execution_count": 3,
   "id": "5b49d4f1-5e01-4c1c-9a98-93ffa3247c56",
   "metadata": {},
   "outputs": [],
   "source": [
    "target = df['Response']"
   ]
  },
  {
   "cell_type": "code",
   "execution_count": 4,
   "id": "3c85cfd0",
   "metadata": {},
   "outputs": [
    {
     "data": {
      "text/html": [
       "<div>\n",
       "<style scoped>\n",
       "    .dataframe tbody tr th:only-of-type {\n",
       "        vertical-align: middle;\n",
       "    }\n",
       "\n",
       "    .dataframe tbody tr th {\n",
       "        vertical-align: top;\n",
       "    }\n",
       "\n",
       "    .dataframe thead th {\n",
       "        text-align: right;\n",
       "    }\n",
       "</style>\n",
       "<table border=\"1\" class=\"dataframe\">\n",
       "  <thead>\n",
       "    <tr style=\"text-align: right;\">\n",
       "      <th></th>\n",
       "      <th>Id</th>\n",
       "      <th>Product_Info_1</th>\n",
       "      <th>Product_Info_2</th>\n",
       "      <th>Product_Info_3</th>\n",
       "      <th>Product_Info_4</th>\n",
       "      <th>Product_Info_5</th>\n",
       "      <th>Product_Info_6</th>\n",
       "      <th>Product_Info_7</th>\n",
       "      <th>Ins_Age</th>\n",
       "      <th>Ht</th>\n",
       "      <th>...</th>\n",
       "      <th>Medical_Keyword_40</th>\n",
       "      <th>Medical_Keyword_41</th>\n",
       "      <th>Medical_Keyword_42</th>\n",
       "      <th>Medical_Keyword_43</th>\n",
       "      <th>Medical_Keyword_44</th>\n",
       "      <th>Medical_Keyword_45</th>\n",
       "      <th>Medical_Keyword_46</th>\n",
       "      <th>Medical_Keyword_47</th>\n",
       "      <th>Medical_Keyword_48</th>\n",
       "      <th>Response</th>\n",
       "    </tr>\n",
       "  </thead>\n",
       "  <tbody>\n",
       "    <tr>\n",
       "      <th>0</th>\n",
       "      <td>2</td>\n",
       "      <td>1</td>\n",
       "      <td>D3</td>\n",
       "      <td>10</td>\n",
       "      <td>0.076923</td>\n",
       "      <td>2</td>\n",
       "      <td>1</td>\n",
       "      <td>1</td>\n",
       "      <td>0.641791</td>\n",
       "      <td>0.581818</td>\n",
       "      <td>...</td>\n",
       "      <td>0</td>\n",
       "      <td>0</td>\n",
       "      <td>0</td>\n",
       "      <td>0</td>\n",
       "      <td>0</td>\n",
       "      <td>0</td>\n",
       "      <td>0</td>\n",
       "      <td>0</td>\n",
       "      <td>0</td>\n",
       "      <td>8</td>\n",
       "    </tr>\n",
       "    <tr>\n",
       "      <th>1</th>\n",
       "      <td>5</td>\n",
       "      <td>1</td>\n",
       "      <td>A1</td>\n",
       "      <td>26</td>\n",
       "      <td>0.076923</td>\n",
       "      <td>2</td>\n",
       "      <td>3</td>\n",
       "      <td>1</td>\n",
       "      <td>0.059701</td>\n",
       "      <td>0.600000</td>\n",
       "      <td>...</td>\n",
       "      <td>0</td>\n",
       "      <td>0</td>\n",
       "      <td>0</td>\n",
       "      <td>0</td>\n",
       "      <td>0</td>\n",
       "      <td>0</td>\n",
       "      <td>0</td>\n",
       "      <td>0</td>\n",
       "      <td>0</td>\n",
       "      <td>4</td>\n",
       "    </tr>\n",
       "    <tr>\n",
       "      <th>2</th>\n",
       "      <td>6</td>\n",
       "      <td>1</td>\n",
       "      <td>E1</td>\n",
       "      <td>26</td>\n",
       "      <td>0.076923</td>\n",
       "      <td>2</td>\n",
       "      <td>3</td>\n",
       "      <td>1</td>\n",
       "      <td>0.029851</td>\n",
       "      <td>0.745455</td>\n",
       "      <td>...</td>\n",
       "      <td>0</td>\n",
       "      <td>0</td>\n",
       "      <td>0</td>\n",
       "      <td>0</td>\n",
       "      <td>0</td>\n",
       "      <td>0</td>\n",
       "      <td>0</td>\n",
       "      <td>0</td>\n",
       "      <td>0</td>\n",
       "      <td>8</td>\n",
       "    </tr>\n",
       "    <tr>\n",
       "      <th>3</th>\n",
       "      <td>7</td>\n",
       "      <td>1</td>\n",
       "      <td>D4</td>\n",
       "      <td>10</td>\n",
       "      <td>0.487179</td>\n",
       "      <td>2</td>\n",
       "      <td>3</td>\n",
       "      <td>1</td>\n",
       "      <td>0.164179</td>\n",
       "      <td>0.672727</td>\n",
       "      <td>...</td>\n",
       "      <td>0</td>\n",
       "      <td>0</td>\n",
       "      <td>0</td>\n",
       "      <td>0</td>\n",
       "      <td>0</td>\n",
       "      <td>0</td>\n",
       "      <td>0</td>\n",
       "      <td>0</td>\n",
       "      <td>0</td>\n",
       "      <td>8</td>\n",
       "    </tr>\n",
       "    <tr>\n",
       "      <th>4</th>\n",
       "      <td>8</td>\n",
       "      <td>1</td>\n",
       "      <td>D2</td>\n",
       "      <td>26</td>\n",
       "      <td>0.230769</td>\n",
       "      <td>2</td>\n",
       "      <td>3</td>\n",
       "      <td>1</td>\n",
       "      <td>0.417910</td>\n",
       "      <td>0.654545</td>\n",
       "      <td>...</td>\n",
       "      <td>0</td>\n",
       "      <td>0</td>\n",
       "      <td>0</td>\n",
       "      <td>0</td>\n",
       "      <td>0</td>\n",
       "      <td>0</td>\n",
       "      <td>0</td>\n",
       "      <td>0</td>\n",
       "      <td>0</td>\n",
       "      <td>8</td>\n",
       "    </tr>\n",
       "  </tbody>\n",
       "</table>\n",
       "<p>5 rows × 128 columns</p>\n",
       "</div>"
      ],
      "text/plain": [
       "   Id  Product_Info_1 Product_Info_2  Product_Info_3  Product_Info_4  \\\n",
       "0   2               1             D3              10        0.076923   \n",
       "1   5               1             A1              26        0.076923   \n",
       "2   6               1             E1              26        0.076923   \n",
       "3   7               1             D4              10        0.487179   \n",
       "4   8               1             D2              26        0.230769   \n",
       "\n",
       "   Product_Info_5  Product_Info_6  Product_Info_7   Ins_Age        Ht  ...  \\\n",
       "0               2               1               1  0.641791  0.581818  ...   \n",
       "1               2               3               1  0.059701  0.600000  ...   \n",
       "2               2               3               1  0.029851  0.745455  ...   \n",
       "3               2               3               1  0.164179  0.672727  ...   \n",
       "4               2               3               1  0.417910  0.654545  ...   \n",
       "\n",
       "   Medical_Keyword_40  Medical_Keyword_41  Medical_Keyword_42  \\\n",
       "0                   0                   0                   0   \n",
       "1                   0                   0                   0   \n",
       "2                   0                   0                   0   \n",
       "3                   0                   0                   0   \n",
       "4                   0                   0                   0   \n",
       "\n",
       "   Medical_Keyword_43  Medical_Keyword_44  Medical_Keyword_45  \\\n",
       "0                   0                   0                   0   \n",
       "1                   0                   0                   0   \n",
       "2                   0                   0                   0   \n",
       "3                   0                   0                   0   \n",
       "4                   0                   0                   0   \n",
       "\n",
       "   Medical_Keyword_46  Medical_Keyword_47  Medical_Keyword_48  Response  \n",
       "0                   0                   0                   0         8  \n",
       "1                   0                   0                   0         4  \n",
       "2                   0                   0                   0         8  \n",
       "3                   0                   0                   0         8  \n",
       "4                   0                   0                   0         8  \n",
       "\n",
       "[5 rows x 128 columns]"
      ]
     },
     "execution_count": 4,
     "metadata": {},
     "output_type": "execute_result"
    }
   ],
   "source": [
    "df.shape\n",
    "df.head()"
   ]
  },
  {
   "cell_type": "markdown",
   "id": "d10f60eb-9896-41c3-9b57-ce7d09264b9d",
   "metadata": {},
   "source": [
    "### Data Preprocessing"
   ]
  },
  {
   "cell_type": "code",
   "execution_count": 24,
   "id": "76a19138",
   "metadata": {},
   "outputs": [
    {
     "data": {
      "text/plain": [
       "Employment_Info_1         19\n",
       "Employment_Info_4       6779\n",
       "Employment_Info_6      10854\n",
       "Insurance_History_5    25396\n",
       "Family_Hist_2          28656\n",
       "Family_Hist_3          34241\n",
       "Family_Hist_4          19184\n",
       "Family_Hist_5          41811\n",
       "Medical_History_1       8889\n",
       "Medical_History_10     58824\n",
       "Medical_History_15     44596\n",
       "Medical_History_24     55580\n",
       "Medical_History_32     58274\n",
       "dtype: int64"
      ]
     },
     "execution_count": 24,
     "metadata": {},
     "output_type": "execute_result"
    }
   ],
   "source": [
    "missing_values = df.isna().sum()\n",
    "missing_values[missing_values>0]"
   ]
  },
  {
   "cell_type": "code",
   "execution_count": 25,
   "id": "7ee6194d",
   "metadata": {},
   "outputs": [
    {
     "data": {
      "text/plain": [
       "14845.25"
      ]
     },
     "execution_count": 25,
     "metadata": {},
     "output_type": "execute_result"
    }
   ],
   "source": [
    "59381* 0.25"
   ]
  },
  {
   "cell_type": "code",
   "execution_count": 26,
   "id": "0d4b4b3d",
   "metadata": {},
   "outputs": [],
   "source": [
    "## Dropping missing values >25%\n",
    "## we will perform imputation on employment info 1,4 and 6, the rest of the columns are dropped out"
   ]
  },
  {
   "cell_type": "code",
   "execution_count": 27,
   "id": "9ff489a6",
   "metadata": {},
   "outputs": [],
   "source": [
    "df.drop(['Insurance_History_5', 'Family_Hist_2', 'Family_Hist_3',\n",
    "       'Family_Hist_4', 'Family_Hist_5', 'Medical_History_1',\n",
    "       'Medical_History_10', 'Medical_History_15', 'Medical_History_24',\n",
    "       'Medical_History_32'], axis = 1, inplace = True)"
   ]
  },
  {
   "cell_type": "code",
   "execution_count": 28,
   "id": "4c93a9d4",
   "metadata": {},
   "outputs": [
    {
     "name": "stdout",
     "output_type": "stream",
     "text": [
      "0.07758209953084522\n",
      "0.0062826743249304665\n",
      "0.361468804001489\n"
     ]
    }
   ],
   "source": [
    "print(df['Employment_Info_1'].mean())\n",
    "print(df['Employment_Info_4'].mean())\n",
    "print(df['Employment_Info_6'].mean())"
   ]
  },
  {
   "cell_type": "code",
   "execution_count": 29,
   "id": "edec492a",
   "metadata": {},
   "outputs": [
    {
     "name": "stdout",
     "output_type": "stream",
     "text": [
      "0.06\n",
      "0.0\n",
      "0.25\n"
     ]
    }
   ],
   "source": [
    "print(df['Employment_Info_1'].median())\n",
    "print(df['Employment_Info_4'].median())\n",
    "print(df['Employment_Info_6'].median())"
   ]
  },
  {
   "cell_type": "code",
   "execution_count": 30,
   "id": "dfbbc8cb",
   "metadata": {},
   "outputs": [],
   "source": [
    "df['Employment_Info_1'] = df['Employment_Info_1'].fillna(df['Employment_Info_1'].median())\n",
    "df['Employment_Info_4'] = df['Employment_Info_1'].fillna(df['Employment_Info_4'].median())\n",
    "df['Employment_Info_6'] = df['Employment_Info_1'].fillna(df['Employment_Info_6'].median())"
   ]
  },
  {
   "cell_type": "code",
   "execution_count": 31,
   "id": "1ac19f4b",
   "metadata": {},
   "outputs": [
    {
     "data": {
      "text/plain": [
       "Series([], dtype: int64)"
      ]
     },
     "execution_count": 31,
     "metadata": {},
     "output_type": "execute_result"
    }
   ],
   "source": [
    "missing_values = df.isna().sum()\n",
    "missing_values[missing_values>0]"
   ]
  },
  {
   "cell_type": "markdown",
   "id": "8c03eb69",
   "metadata": {},
   "source": [
    "### Feature Selection"
   ]
  },
  {
   "cell_type": "markdown",
   "id": "b2563ca0-00ef-425a-8f7f-e6fbc7c54852",
   "metadata": {},
   "source": [
    "### Chisquare test for categorical variables"
   ]
  },
  {
   "cell_type": "code",
   "execution_count": 32,
   "id": "8f3b6b83",
   "metadata": {},
   "outputs": [],
   "source": [
    "categorical_df = \"Product_Info_1, Product_Info_2, Product_Info_3, Product_Info_5, Product_Info_6, Product_Info_7, Employment_Info_2, Employment_Info_3, Employment_Info_5, InsuredInfo_1, InsuredInfo_2, InsuredInfo_3, InsuredInfo_4, InsuredInfo_5, InsuredInfo_6, InsuredInfo_7, Insurance_History_1, Insurance_History_2, Insurance_History_3, Insurance_History_4, Insurance_History_7, Insurance_History_8, Insurance_History_9, Family_Hist_1, Medical_History_2, Medical_History_3, Medical_History_4, Medical_History_5, Medical_History_6, Medical_History_7, Medical_History_8, Medical_History_9, Medical_History_11, Medical_History_12, Medical_History_13, Medical_History_14, Medical_History_16, Medical_History_17, Medical_History_18, Medical_History_19, Medical_History_20, Medical_History_21, Medical_History_22, Medical_History_23, Medical_History_25, Medical_History_26, Medical_History_27, Medical_History_28, Medical_History_29, Medical_History_30, Medical_History_31, Medical_History_33, Medical_History_34, Medical_History_35, Medical_History_36, Medical_History_37, Medical_History_38, Medical_History_39, Medical_History_40, Medical_History_41\".split(',')"
   ]
  },
  {
   "cell_type": "code",
   "execution_count": 33,
   "id": "8d058eff-7a4d-47d4-a684-1320d18cd624",
   "metadata": {},
   "outputs": [],
   "source": [
    "for x in range(1,49):\n",
    "    categorical_df.append('Medical_Keyword_' + str(x))"
   ]
  },
  {
   "cell_type": "code",
   "execution_count": 34,
   "id": "0fdb8a7c",
   "metadata": {},
   "outputs": [],
   "source": [
    "categorical_df = [x.strip() for x in categorical_df]"
   ]
  },
  {
   "cell_type": "code",
   "execution_count": 35,
   "id": "2eb96843",
   "metadata": {},
   "outputs": [],
   "source": [
    "categorical_df = df[categorical_df]"
   ]
  },
  {
   "cell_type": "code",
   "execution_count": 36,
   "id": "10c2e29f",
   "metadata": {},
   "outputs": [
    {
     "name": "stdout",
     "output_type": "stream",
     "text": [
      "108\n"
     ]
    }
   ],
   "source": [
    "categorical_lst = \"Product_Info_1, Product_Info_2, Product_Info_3, Product_Info_5, Product_Info_6, Product_Info_7, Employment_Info_2, Employment_Info_3, Employment_Info_5, InsuredInfo_1, InsuredInfo_2, InsuredInfo_3, InsuredInfo_4, InsuredInfo_5, InsuredInfo_6, InsuredInfo_7, Insurance_History_1, Insurance_History_2, Insurance_History_3, Insurance_History_4, Insurance_History_7, Insurance_History_8, Insurance_History_9, Family_Hist_1, Medical_History_2, Medical_History_3, Medical_History_4, Medical_History_5, Medical_History_6, Medical_History_7, Medical_History_8, Medical_History_9, Medical_History_11, Medical_History_12, Medical_History_13, Medical_History_14, Medical_History_16, Medical_History_17, Medical_History_18, Medical_History_19, Medical_History_20, Medical_History_21, Medical_History_22, Medical_History_23, Medical_History_25, Medical_History_26, Medical_History_27, Medical_History_28, Medical_History_29, Medical_History_30, Medical_History_31, Medical_History_33, Medical_History_34, Medical_History_35, Medical_History_36, Medical_History_37, Medical_History_38, Medical_History_39, Medical_History_40, Medical_History_41\".split(', ')\n",
    "for x in range(1,49):\n",
    "    categorical_lst.append('Medical_Keyword_' + str(x))\n",
    "    \n",
    "print(len(categorical_lst))\n",
    "p_val = []\n",
    "for x in range(len(categorical_lst)):\n",
    "    data = pd.crosstab(df[categorical_lst[x]], df['Response'])\n",
    "    data = np.array(data)\n",
    "    p_val.append(stats.chi2_contingency(data)[1])\n"
   ]
  },
  {
   "cell_type": "code",
   "execution_count": 37,
   "id": "ac81626a",
   "metadata": {},
   "outputs": [],
   "source": [
    "df_pval = pd.DataFrame({'Index' : categorical_lst, 'P_value' : p_val})"
   ]
  },
  {
   "cell_type": "code",
   "execution_count": 38,
   "id": "59dd2c2a",
   "metadata": {},
   "outputs": [
    {
     "data": {
      "text/plain": [
       "(108, 2)"
      ]
     },
     "execution_count": 38,
     "metadata": {},
     "output_type": "execute_result"
    }
   ],
   "source": [
    "df_pval.shape"
   ]
  },
  {
   "cell_type": "code",
   "execution_count": 39,
   "id": "3701f28c-f503-4c1f-8b0f-82f229bfc28f",
   "metadata": {},
   "outputs": [],
   "source": [
    "rt = df_pval[df_pval['P_value']>0.05]"
   ]
  },
  {
   "cell_type": "code",
   "execution_count": 40,
   "id": "48d95989-2474-4af4-a44d-2e4822aaafd9",
   "metadata": {},
   "outputs": [
    {
     "data": {
      "text/html": [
       "<div>\n",
       "<style scoped>\n",
       "    .dataframe tbody tr th:only-of-type {\n",
       "        vertical-align: middle;\n",
       "    }\n",
       "\n",
       "    .dataframe tbody tr th {\n",
       "        vertical-align: top;\n",
       "    }\n",
       "\n",
       "    .dataframe thead th {\n",
       "        text-align: right;\n",
       "    }\n",
       "</style>\n",
       "<table border=\"1\" class=\"dataframe\">\n",
       "  <thead>\n",
       "    <tr style=\"text-align: right;\">\n",
       "      <th></th>\n",
       "      <th>Index</th>\n",
       "      <th>P_value</th>\n",
       "    </tr>\n",
       "  </thead>\n",
       "  <tbody>\n",
       "    <tr>\n",
       "      <th>91</th>\n",
       "      <td>Medical_Keyword_32</td>\n",
       "      <td>0.064642</td>\n",
       "    </tr>\n",
       "    <tr>\n",
       "      <th>104</th>\n",
       "      <td>Medical_Keyword_45</td>\n",
       "      <td>0.194523</td>\n",
       "    </tr>\n",
       "  </tbody>\n",
       "</table>\n",
       "</div>"
      ],
      "text/plain": [
       "                  Index   P_value\n",
       "91   Medical_Keyword_32  0.064642\n",
       "104  Medical_Keyword_45  0.194523"
      ]
     },
     "execution_count": 40,
     "metadata": {},
     "output_type": "execute_result"
    }
   ],
   "source": [
    "rt"
   ]
  },
  {
   "cell_type": "code",
   "execution_count": 41,
   "id": "28028942",
   "metadata": {},
   "outputs": [],
   "source": [
    "df_pval = df_pval[df_pval['P_value']<0.05]\n"
   ]
  },
  {
   "cell_type": "code",
   "execution_count": 42,
   "id": "5911628d",
   "metadata": {},
   "outputs": [
    {
     "data": {
      "text/plain": [
       "(106, 2)"
      ]
     },
     "execution_count": 42,
     "metadata": {},
     "output_type": "execute_result"
    }
   ],
   "source": [
    "df_pval.shape"
   ]
  },
  {
   "cell_type": "code",
   "execution_count": 43,
   "id": "cc023eee-b073-482e-930f-912c5c38f70c",
   "metadata": {},
   "outputs": [],
   "source": [
    "categorical_columns = list(df_pval['Index'])\n"
   ]
  },
  {
   "cell_type": "markdown",
   "id": "87c4e2e2-279a-42e0-8561-93b74c9d3423",
   "metadata": {},
   "source": [
    "### Anova test for numerical variables"
   ]
  },
  {
   "cell_type": "code",
   "execution_count": 44,
   "id": "6f294a75",
   "metadata": {},
   "outputs": [],
   "source": [
    "numerical_df = \"Product_Info_4, Ins_Age, Ht, Wt, BMI, Employment_Info_1, Employment_Info_4, Employment_Info_6\""
   ]
  },
  {
   "cell_type": "code",
   "execution_count": 45,
   "id": "277723ad-9a94-4322-bdca-57702b183287",
   "metadata": {},
   "outputs": [],
   "source": [
    "numerical_df = numerical_df.split(\", \")"
   ]
  },
  {
   "cell_type": "code",
   "execution_count": 46,
   "id": "f104f5bd-2343-4169-9ad1-b9806b5357d3",
   "metadata": {},
   "outputs": [],
   "source": [
    "sk = SelectKBest(k = 'all')"
   ]
  },
  {
   "cell_type": "code",
   "execution_count": 47,
   "id": "863255a6-3d85-47cc-a8e6-55dae986ce6d",
   "metadata": {},
   "outputs": [],
   "source": [
    "numerical_df = df[numerical_df]"
   ]
  },
  {
   "cell_type": "code",
   "execution_count": 48,
   "id": "78af2e7f-ef58-4e00-ba9e-8fffb5224a7d",
   "metadata": {},
   "outputs": [
    {
     "data": {
      "text/plain": [
       "array([[0.07692308, 0.64179104, 0.58181818, ..., 0.028     , 0.028     ,\n",
       "        0.028     ],\n",
       "       [0.07692308, 0.05970149, 0.6       , ..., 0.        , 0.        ,\n",
       "        0.        ],\n",
       "       [0.07692308, 0.02985075, 0.74545454, ..., 0.03      , 0.03      ,\n",
       "        0.03      ],\n",
       "       ...,\n",
       "       [0.07692308, 0.10447761, 0.74545454, ..., 0.035     , 0.035     ,\n",
       "        0.035     ],\n",
       "       [0.23076923, 0.50746269, 0.69090909, ..., 0.038     , 0.038     ,\n",
       "        0.038     ],\n",
       "       [0.07692308, 0.44776119, 0.78181818, ..., 0.123     , 0.123     ,\n",
       "        0.123     ]])"
      ]
     },
     "execution_count": 48,
     "metadata": {},
     "output_type": "execute_result"
    }
   ],
   "source": [
    "sk.fit_transform(numerical_df, df['Response'])"
   ]
  },
  {
   "cell_type": "code",
   "execution_count": 49,
   "id": "1f8b1c76-c721-41db-81aa-706b9ea0e91b",
   "metadata": {},
   "outputs": [],
   "source": [
    "numerical_lst = \"Product_Info_4, Ins_Age, Ht, Wt, BMI, Employment_Info_1, Employment_Info_4, Employment_Info_6\"\n",
    "numerical_lst = numerical_lst.split(\", \")"
   ]
  },
  {
   "cell_type": "code",
   "execution_count": 50,
   "id": "e69d6948-68d5-4469-a65b-3772f22a76fd",
   "metadata": {},
   "outputs": [
    {
     "name": "stdout",
     "output_type": "stream",
     "text": [
      "('Product_Info_4', 443.9405428025889)\n",
      "('Ins_Age', 649.4064114587577)\n",
      "('Ht', 211.75235563616224)\n",
      "('Wt', 2327.3449630558653)\n",
      "('BMI', 2937.4685906906448)\n",
      "('Employment_Info_1', 52.53508211204276)\n",
      "('Employment_Info_4', 52.53508211204276)\n",
      "('Employment_Info_6', 52.53508211204276)\n"
     ]
    }
   ],
   "source": [
    "for i in range(len(sk.scores_)):\n",
    "\tprint((numerical_lst[i], sk.scores_[i]))"
   ]
  },
  {
   "cell_type": "code",
   "execution_count": 51,
   "id": "b55a0245-bc3b-48c4-aabe-832c1c7da470",
   "metadata": {},
   "outputs": [],
   "source": [
    "# removed all the values <100\n",
    "#According to annova\n",
    "# numerical_lst = \"Product_Info_4, Ins_Age, Ht, Wt, BMI\" "
   ]
  },
  {
   "cell_type": "markdown",
   "id": "795f851f-1100-4a76-bba0-8ff58e2b301d",
   "metadata": {},
   "source": [
    "### Mutual Info test"
   ]
  },
  {
   "cell_type": "code",
   "execution_count": 52,
   "id": "6d6acb97-c742-4908-884e-a7b8a1ff354d",
   "metadata": {},
   "outputs": [],
   "source": [
    "sk = SelectKBest(k = 'all' , score_func = mutual_info_classif)"
   ]
  },
  {
   "cell_type": "code",
   "execution_count": 53,
   "id": "887bd1aa-c7af-4ba8-b6be-fdd6d39248f3",
   "metadata": {},
   "outputs": [
    {
     "data": {
      "text/plain": [
       "array([[0.07692308, 0.64179104, 0.58181818, ..., 0.028     , 0.028     ,\n",
       "        0.028     ],\n",
       "       [0.07692308, 0.05970149, 0.6       , ..., 0.        , 0.        ,\n",
       "        0.        ],\n",
       "       [0.07692308, 0.02985075, 0.74545454, ..., 0.03      , 0.03      ,\n",
       "        0.03      ],\n",
       "       ...,\n",
       "       [0.07692308, 0.10447761, 0.74545454, ..., 0.035     , 0.035     ,\n",
       "        0.035     ],\n",
       "       [0.23076923, 0.50746269, 0.69090909, ..., 0.038     , 0.038     ,\n",
       "        0.038     ],\n",
       "       [0.07692308, 0.44776119, 0.78181818, ..., 0.123     , 0.123     ,\n",
       "        0.123     ]])"
      ]
     },
     "execution_count": 53,
     "metadata": {},
     "output_type": "execute_result"
    }
   ],
   "source": [
    "sk.fit_transform(numerical_df, df['Response'])"
   ]
  },
  {
   "cell_type": "code",
   "execution_count": 54,
   "id": "6858cfbd-20b7-4dc7-b386-0c198e0bb342",
   "metadata": {},
   "outputs": [
    {
     "name": "stdout",
     "output_type": "stream",
     "text": [
      "('Product_Info_4', 0.07061094492842912)\n",
      "('Ins_Age', 0.037782182398490516)\n",
      "('Ht', 0.01502563389747369)\n",
      "('Wt', 0.15169517402467392)\n",
      "('BMI', 0.22599412632477467)\n",
      "('Employment_Info_1', 0.010699907966090993)\n",
      "('Employment_Info_4', 0.014042761231055856)\n",
      "('Employment_Info_6', 0.008104431362228937)\n"
     ]
    }
   ],
   "source": [
    "for i in range(len(sk.scores_)):\n",
    "\tprint((numerical_lst[i], sk.scores_[i]))"
   ]
  },
  {
   "cell_type": "code",
   "execution_count": 55,
   "id": "e2c68f9e-bd9c-42dc-a21c-7ed6577bbe87",
   "metadata": {},
   "outputs": [],
   "source": [
    "numerical_lst = [\"Product_Info_4\", \"Ins_Age\", \"Ht\", \"Wt\", \"BMI\"]"
   ]
  },
  {
   "cell_type": "code",
   "execution_count": 56,
   "id": "95a64312-8fab-400d-88a0-48948afa4b74",
   "metadata": {},
   "outputs": [],
   "source": [
    "final_val = categorical_columns + numerical_lst"
   ]
  },
  {
   "cell_type": "code",
   "execution_count": 57,
   "id": "cab7e789-777a-4380-a6d9-70dc1cbda0a5",
   "metadata": {},
   "outputs": [],
   "source": [
    "df = df[final_val]"
   ]
  },
  {
   "cell_type": "code",
   "execution_count": 58,
   "id": "535b6281-fb51-41f1-89f1-3d8b13986cb3",
   "metadata": {},
   "outputs": [
    {
     "data": {
      "text/plain": [
       "(59381, 111)"
      ]
     },
     "execution_count": 58,
     "metadata": {},
     "output_type": "execute_result"
    }
   ],
   "source": [
    "df.shape"
   ]
  },
  {
   "cell_type": "code",
   "execution_count": 59,
   "id": "f8424685-557b-48c3-9d87-61b0cfc4bc4f",
   "metadata": {},
   "outputs": [],
   "source": [
    "# df['target'] = target\n",
    "df = df.join(pd.get_dummies(df['Product_Info_2']))\n",
    "df.drop('Product_Info_2' , axis = 1, inplace= True)"
   ]
  },
  {
   "cell_type": "markdown",
   "id": "a6ae05c7-0c9f-4ef5-b204-13f179b8b8dd",
   "metadata": {},
   "source": [
    "### Data Visualization "
   ]
  },
  {
   "cell_type": "code",
   "execution_count": 60,
   "id": "d1e057c7-10ab-47e1-8b08-736a6281be53",
   "metadata": {},
   "outputs": [
    {
     "name": "stderr",
     "output_type": "stream",
     "text": [
      "C:\\Users\\chava\\anaconda3\\lib\\site-packages\\sklearn\\manifold\\_t_sne.py:800: FutureWarning: The default initialization in TSNE will change from 'random' to 'pca' in 1.2.\n",
      "  warnings.warn(\n",
      "C:\\Users\\chava\\anaconda3\\lib\\site-packages\\sklearn\\manifold\\_t_sne.py:810: FutureWarning: The default learning rate in TSNE will change from 200.0 to 'auto' in 1.2.\n",
      "  warnings.warn(\n"
     ]
    },
    {
     "name": "stdout",
     "output_type": "stream",
     "text": [
      "[t-SNE] Computing 91 nearest neighbors...\n",
      "[t-SNE] Indexed 59381 samples in 0.037s...\n",
      "[t-SNE] Computed neighbors for 59381 samples in 6.220s...\n",
      "[t-SNE] Computed conditional probabilities for sample 1000 / 59381\n",
      "[t-SNE] Computed conditional probabilities for sample 2000 / 59381\n",
      "[t-SNE] Computed conditional probabilities for sample 3000 / 59381\n",
      "[t-SNE] Computed conditional probabilities for sample 4000 / 59381\n",
      "[t-SNE] Computed conditional probabilities for sample 5000 / 59381\n",
      "[t-SNE] Computed conditional probabilities for sample 6000 / 59381\n",
      "[t-SNE] Computed conditional probabilities for sample 7000 / 59381\n",
      "[t-SNE] Computed conditional probabilities for sample 8000 / 59381\n",
      "[t-SNE] Computed conditional probabilities for sample 9000 / 59381\n",
      "[t-SNE] Computed conditional probabilities for sample 10000 / 59381\n",
      "[t-SNE] Computed conditional probabilities for sample 11000 / 59381\n",
      "[t-SNE] Computed conditional probabilities for sample 12000 / 59381\n",
      "[t-SNE] Computed conditional probabilities for sample 13000 / 59381\n",
      "[t-SNE] Computed conditional probabilities for sample 14000 / 59381\n",
      "[t-SNE] Computed conditional probabilities for sample 15000 / 59381\n",
      "[t-SNE] Computed conditional probabilities for sample 16000 / 59381\n",
      "[t-SNE] Computed conditional probabilities for sample 17000 / 59381\n",
      "[t-SNE] Computed conditional probabilities for sample 18000 / 59381\n",
      "[t-SNE] Computed conditional probabilities for sample 19000 / 59381\n",
      "[t-SNE] Computed conditional probabilities for sample 20000 / 59381\n",
      "[t-SNE] Computed conditional probabilities for sample 21000 / 59381\n",
      "[t-SNE] Computed conditional probabilities for sample 22000 / 59381\n",
      "[t-SNE] Computed conditional probabilities for sample 23000 / 59381\n",
      "[t-SNE] Computed conditional probabilities for sample 24000 / 59381\n",
      "[t-SNE] Computed conditional probabilities for sample 25000 / 59381\n",
      "[t-SNE] Computed conditional probabilities for sample 26000 / 59381\n",
      "[t-SNE] Computed conditional probabilities for sample 27000 / 59381\n",
      "[t-SNE] Computed conditional probabilities for sample 28000 / 59381\n",
      "[t-SNE] Computed conditional probabilities for sample 29000 / 59381\n",
      "[t-SNE] Computed conditional probabilities for sample 30000 / 59381\n",
      "[t-SNE] Computed conditional probabilities for sample 31000 / 59381\n",
      "[t-SNE] Computed conditional probabilities for sample 32000 / 59381\n",
      "[t-SNE] Computed conditional probabilities for sample 33000 / 59381\n",
      "[t-SNE] Computed conditional probabilities for sample 34000 / 59381\n",
      "[t-SNE] Computed conditional probabilities for sample 35000 / 59381\n",
      "[t-SNE] Computed conditional probabilities for sample 36000 / 59381\n",
      "[t-SNE] Computed conditional probabilities for sample 37000 / 59381\n",
      "[t-SNE] Computed conditional probabilities for sample 38000 / 59381\n",
      "[t-SNE] Computed conditional probabilities for sample 39000 / 59381\n",
      "[t-SNE] Computed conditional probabilities for sample 40000 / 59381\n",
      "[t-SNE] Computed conditional probabilities for sample 41000 / 59381\n",
      "[t-SNE] Computed conditional probabilities for sample 42000 / 59381\n",
      "[t-SNE] Computed conditional probabilities for sample 43000 / 59381\n",
      "[t-SNE] Computed conditional probabilities for sample 44000 / 59381\n",
      "[t-SNE] Computed conditional probabilities for sample 45000 / 59381\n",
      "[t-SNE] Computed conditional probabilities for sample 46000 / 59381\n",
      "[t-SNE] Computed conditional probabilities for sample 47000 / 59381\n",
      "[t-SNE] Computed conditional probabilities for sample 48000 / 59381\n",
      "[t-SNE] Computed conditional probabilities for sample 49000 / 59381\n",
      "[t-SNE] Computed conditional probabilities for sample 50000 / 59381\n",
      "[t-SNE] Computed conditional probabilities for sample 51000 / 59381\n",
      "[t-SNE] Computed conditional probabilities for sample 52000 / 59381\n",
      "[t-SNE] Computed conditional probabilities for sample 53000 / 59381\n",
      "[t-SNE] Computed conditional probabilities for sample 54000 / 59381\n",
      "[t-SNE] Computed conditional probabilities for sample 55000 / 59381\n",
      "[t-SNE] Computed conditional probabilities for sample 56000 / 59381\n",
      "[t-SNE] Computed conditional probabilities for sample 57000 / 59381\n",
      "[t-SNE] Computed conditional probabilities for sample 58000 / 59381\n",
      "[t-SNE] Computed conditional probabilities for sample 59000 / 59381\n",
      "[t-SNE] Computed conditional probabilities for sample 59381 / 59381\n",
      "[t-SNE] Mean sigma: 1.464828\n",
      "[t-SNE] KL divergence after 250 iterations with early exaggeration: 82.445572\n",
      "[t-SNE] KL divergence after 1000 iterations: 1.834193\n"
     ]
    }
   ],
   "source": [
    "tsne = TSNE(n_components=2, verbose=1, random_state=123)\n",
    "z = tsne.fit_transform(df) "
   ]
  },
  {
   "cell_type": "code",
   "execution_count": 61,
   "id": "ad901920-5368-4963-a301-346dc0fc02a0",
   "metadata": {},
   "outputs": [
    {
     "data": {
      "text/plain": [
       "[Text(0.5, 1.0, 'Prudential data')]"
      ]
     },
     "execution_count": 61,
     "metadata": {},
     "output_type": "execute_result"
    },
    {
     "data": {
      "image/png": "[encoded data removed]",
      "text/plain": [
       "<Figure size 640x480 with 1 Axes>"
      ]
     },
     "metadata": {},
     "output_type": "display_data"
    }
   ],
   "source": [
    "df[\"y\"] = target\n",
    "df[\"comp-1\"] = z[:,0]\n",
    "df[\"comp-2\"] = z[:,1]\n",
    "\n",
    "sns.scatterplot(x=\"comp-1\", y=\"comp-2\", hue=df.y.tolist(),\n",
    "                palette=sns.color_palette(\"hls\", 8),\n",
    "                data=df).set(title=\"Prudential data\")"
   ]
  },
  {
   "cell_type": "code",
   "execution_count": 62,
   "id": "8ad18fa7-54c4-42b0-a6b7-d491295c5be7",
   "metadata": {},
   "outputs": [
    {
     "name": "stderr",
     "output_type": "stream",
     "text": [
      "C:\\Users\\chava\\anaconda3\\lib\\site-packages\\seaborn\\_decorators.py:36: FutureWarning: Pass the following variable as a keyword arg: x. From version 0.12, the only valid positional argument will be `data`, and passing other arguments without an explicit keyword will result in an error or misinterpretation.\n",
      "  warnings.warn(\n"
     ]
    },
    {
     "data": {
      "text/plain": [
       "<AxesSubplot:xlabel='Response', ylabel='count'>"
      ]
     },
     "execution_count": 62,
     "metadata": {},
     "output_type": "execute_result"
    },
    {
     "data": {
      "image/png": "[encoded data removed]",
      "text/plain": [
       "<Figure size 640x480 with 1 Axes>"
      ]
     },
     "metadata": {},
     "output_type": "display_data"
    }
   ],
   "source": [
    "sns.countplot(target)"
   ]
  },
  {
   "cell_type": "code",
   "execution_count": 63,
   "id": "8e934075-d985-4057-b4fb-389fac79eed4",
   "metadata": {},
   "outputs": [
    {
     "data": {
      "text/plain": [
       "<AxesSubplot:xlabel='Response', ylabel='BMI'>"
      ]
     },
     "execution_count": 63,
     "metadata": {},
     "output_type": "execute_result"
    },
    {
     "data": {
      "image/png": "[encoded data removed]",
      "text/plain": [
       "<Figure size 640x480 with 1 Axes>"
      ]
     },
     "metadata": {},
     "output_type": "display_data"
    }
   ],
   "source": [
    "sns.boxplot(data=df, x= target, y='BMI')\n"
   ]
  },
  {
   "cell_type": "code",
   "execution_count": 64,
   "id": "3fc948c6-8b67-4ce1-a241-d69db5d2f8c4",
   "metadata": {},
   "outputs": [
    {
     "data": {
      "text/plain": [
       "<AxesSubplot:xlabel='Response', ylabel='Wt'>"
      ]
     },
     "execution_count": 64,
     "metadata": {},
     "output_type": "execute_result"
    },
    {
     "data": {
      "image/png": "[encoded data removed]",
      "text/plain": [
       "<Figure size 640x480 with 1 Axes>"
      ]
     },
     "metadata": {},
     "output_type": "display_data"
    }
   ],
   "source": [
    "sns.boxplot(data=df, x= target, y='Wt')"
   ]
  },
  {
   "cell_type": "markdown",
   "id": "b4c12a1c-52e9-4fdf-b42c-aef00ea33cb8",
   "metadata": {},
   "source": [
    "### Data Sampling"
   ]
  },
  {
   "cell_type": "code",
   "execution_count": 65,
   "id": "bae861eb-7ceb-4293-abcb-485848f30c01",
   "metadata": {},
   "outputs": [],
   "source": [
    "# sampled_df = pd.DataFrame()\n",
    "    \n",
    "# for y in range(5000):\n",
    "#     sampled_df = pd.concat([sampled_df, df[df['target'] == 1].sample()])\n",
    "#     sampled_df = pd.concat([sampled_df, df[df['target'] == 2].sample()])\n",
    "#     sampled_df = pd.concat([sampled_df, df[df['target'] == 3].sample()])\n",
    "#     sampled_df = pd.concat([sampled_df, df[df['target'] == 4].sample()])\n",
    "#     sampled_df = pd.concat([sampled_df, df[df['target'] == 5].sample()])\n",
    "#     sampled_df = pd.concat([sampled_df, df[df['target'] == 6].sample()])\n",
    "#     sampled_df = pd.concat([sampled_df, df[df['target'] == 7].sample()])\n",
    "#     sampled_df = pd.concat([sampled_df, df[df['target'] == 8].sample()])"
   ]
  },
  {
   "cell_type": "code",
   "execution_count": 66,
   "id": "9a087a73-bf83-47d8-a934-56420449af0a",
   "metadata": {},
   "outputs": [],
   "source": [
    "# sampled_df"
   ]
  },
  {
   "cell_type": "markdown",
   "id": "db162682-8e9d-42f4-9aab-a48c4df51cbd",
   "metadata": {},
   "source": [
    "#### Encoding of Data"
   ]
  },
  {
   "cell_type": "code",
   "execution_count": 67,
   "id": "54f042c6-ad2f-4bf0-aad3-20dd36fd921e",
   "metadata": {},
   "outputs": [],
   "source": [
    "cat_col = \"Product_Info_1, Product_Info_3, Product_Info_5, Product_Info_6, Product_Info_7, Employment_Info_2, Employment_Info_3, Employment_Info_5, InsuredInfo_1, InsuredInfo_2, InsuredInfo_3, InsuredInfo_4, InsuredInfo_5, InsuredInfo_6, InsuredInfo_7, Insurance_History_1, Insurance_History_2, Insurance_History_3, Insurance_History_4, Insurance_History_7, Insurance_History_8, Insurance_History_9, Family_Hist_1, Medical_History_2, Medical_History_3, Medical_History_4, Medical_History_5, Medical_History_6, Medical_History_7, Medical_History_8, Medical_History_9, Medical_History_11, Medical_History_12, Medical_History_13, Medical_History_14, Medical_History_16, Medical_History_17, Medical_History_18, Medical_History_19, Medical_History_20, Medical_History_21, Medical_History_22, Medical_History_23, Medical_History_25, Medical_History_26, Medical_History_27, Medical_History_28, Medical_History_29, Medical_History_30, Medical_History_31, Medical_History_33, Medical_History_34, Medical_History_35, Medical_History_36, Medical_History_37, Medical_History_38, Medical_History_39, Medical_History_40, Medical_History_41\""
   ]
  },
  {
   "cell_type": "code",
   "execution_count": 68,
   "id": "066a6434-8b6c-4cd1-877f-2723a4680952",
   "metadata": {},
   "outputs": [
    {
     "data": {
      "text/plain": [
       "59"
      ]
     },
     "execution_count": 68,
     "metadata": {},
     "output_type": "execute_result"
    }
   ],
   "source": [
    "cat_col = cat_col.split(\", \")\n",
    "len(cat_col)"
   ]
  },
  {
   "cell_type": "code",
   "execution_count": 69,
   "id": "425ba5fd-1b9e-4a69-b761-06ed441329f5",
   "metadata": {},
   "outputs": [],
   "source": [
    "for x in cat_col:\n",
    "    df[x] = df[x].astype(str)"
   ]
  },
  {
   "cell_type": "code",
   "execution_count": 70,
   "id": "38e8bc06-ff37-42da-9a5a-79254f45748a",
   "metadata": {},
   "outputs": [
    {
     "data": {
      "text/plain": [
       "(59381, 751)"
      ]
     },
     "execution_count": 70,
     "metadata": {},
     "output_type": "execute_result"
    }
   ],
   "source": [
    "cat_df = pd.get_dummies(df[cat_col], drop_first=True)\n",
    "cat_df.shape"
   ]
  },
  {
   "cell_type": "code",
   "execution_count": 78,
   "id": "4225afe6-d3ee-43e3-8228-dad39786f465",
   "metadata": {},
   "outputs": [
    {
     "data": {
      "text/plain": [
       "70"
      ]
     },
     "execution_count": 78,
     "metadata": {},
     "output_type": "execute_result"
    }
   ],
   "source": [
    "num_col = [x for x in df.columns if x not in cat_col]\n",
    "len(num_col)"
   ]
  },
  {
   "cell_type": "code",
   "execution_count": 79,
   "id": "b71324a9-0d39-41f0-a106-127ac1df831b",
   "metadata": {},
   "outputs": [
    {
     "data": {
      "text/plain": [
       "(59381, 70)"
      ]
     },
     "execution_count": 79,
     "metadata": {},
     "output_type": "execute_result"
    }
   ],
   "source": [
    "num_df = df[num_col]\n",
    "num_df.shape"
   ]
  },
  {
   "cell_type": "code",
   "execution_count": 80,
   "id": "468d3874-5e9a-41c5-b004-3700801239db",
   "metadata": {},
   "outputs": [],
   "source": [
    "one_hot_df = cat_df.join(num_df)"
   ]
  },
  {
   "cell_type": "code",
   "execution_count": 81,
   "id": "c14a30be-47e0-4cd0-89bd-fa36f50eb036",
   "metadata": {},
   "outputs": [
    {
     "data": {
      "text/html": [
       "<div>\n",
       "<style scoped>\n",
       "    .dataframe tbody tr th:only-of-type {\n",
       "        vertical-align: middle;\n",
       "    }\n",
       "\n",
       "    .dataframe tbody tr th {\n",
       "        vertical-align: top;\n",
       "    }\n",
       "\n",
       "    .dataframe thead th {\n",
       "        text-align: right;\n",
       "    }\n",
       "</style>\n",
       "<table border=\"1\" class=\"dataframe\">\n",
       "  <thead>\n",
       "    <tr style=\"text-align: right;\">\n",
       "      <th></th>\n",
       "      <th>Product_Info_1_2</th>\n",
       "      <th>Product_Info_3_10</th>\n",
       "      <th>Product_Info_3_11</th>\n",
       "      <th>Product_Info_3_12</th>\n",
       "      <th>Product_Info_3_13</th>\n",
       "      <th>Product_Info_3_15</th>\n",
       "      <th>Product_Info_3_16</th>\n",
       "      <th>Product_Info_3_17</th>\n",
       "      <th>Product_Info_3_18</th>\n",
       "      <th>Product_Info_3_19</th>\n",
       "      <th>...</th>\n",
       "      <th>B2</th>\n",
       "      <th>C1</th>\n",
       "      <th>C2</th>\n",
       "      <th>C3</th>\n",
       "      <th>C4</th>\n",
       "      <th>D1</th>\n",
       "      <th>D2</th>\n",
       "      <th>D3</th>\n",
       "      <th>D4</th>\n",
       "      <th>E1</th>\n",
       "    </tr>\n",
       "  </thead>\n",
       "  <tbody>\n",
       "    <tr>\n",
       "      <th>0</th>\n",
       "      <td>0</td>\n",
       "      <td>1</td>\n",
       "      <td>0</td>\n",
       "      <td>0</td>\n",
       "      <td>0</td>\n",
       "      <td>0</td>\n",
       "      <td>0</td>\n",
       "      <td>0</td>\n",
       "      <td>0</td>\n",
       "      <td>0</td>\n",
       "      <td>...</td>\n",
       "      <td>0</td>\n",
       "      <td>0</td>\n",
       "      <td>0</td>\n",
       "      <td>0</td>\n",
       "      <td>0</td>\n",
       "      <td>0</td>\n",
       "      <td>0</td>\n",
       "      <td>1</td>\n",
       "      <td>0</td>\n",
       "      <td>0</td>\n",
       "    </tr>\n",
       "    <tr>\n",
       "      <th>1</th>\n",
       "      <td>0</td>\n",
       "      <td>0</td>\n",
       "      <td>0</td>\n",
       "      <td>0</td>\n",
       "      <td>0</td>\n",
       "      <td>0</td>\n",
       "      <td>0</td>\n",
       "      <td>0</td>\n",
       "      <td>0</td>\n",
       "      <td>0</td>\n",
       "      <td>...</td>\n",
       "      <td>0</td>\n",
       "      <td>0</td>\n",
       "      <td>0</td>\n",
       "      <td>0</td>\n",
       "      <td>0</td>\n",
       "      <td>0</td>\n",
       "      <td>0</td>\n",
       "      <td>0</td>\n",
       "      <td>0</td>\n",
       "      <td>0</td>\n",
       "    </tr>\n",
       "    <tr>\n",
       "      <th>2</th>\n",
       "      <td>0</td>\n",
       "      <td>0</td>\n",
       "      <td>0</td>\n",
       "      <td>0</td>\n",
       "      <td>0</td>\n",
       "      <td>0</td>\n",
       "      <td>0</td>\n",
       "      <td>0</td>\n",
       "      <td>0</td>\n",
       "      <td>0</td>\n",
       "      <td>...</td>\n",
       "      <td>0</td>\n",
       "      <td>0</td>\n",
       "      <td>0</td>\n",
       "      <td>0</td>\n",
       "      <td>0</td>\n",
       "      <td>0</td>\n",
       "      <td>0</td>\n",
       "      <td>0</td>\n",
       "      <td>0</td>\n",
       "      <td>1</td>\n",
       "    </tr>\n",
       "    <tr>\n",
       "      <th>3</th>\n",
       "      <td>0</td>\n",
       "      <td>1</td>\n",
       "      <td>0</td>\n",
       "      <td>0</td>\n",
       "      <td>0</td>\n",
       "      <td>0</td>\n",
       "      <td>0</td>\n",
       "      <td>0</td>\n",
       "      <td>0</td>\n",
       "      <td>0</td>\n",
       "      <td>...</td>\n",
       "      <td>0</td>\n",
       "      <td>0</td>\n",
       "      <td>0</td>\n",
       "      <td>0</td>\n",
       "      <td>0</td>\n",
       "      <td>0</td>\n",
       "      <td>0</td>\n",
       "      <td>0</td>\n",
       "      <td>1</td>\n",
       "      <td>0</td>\n",
       "    </tr>\n",
       "    <tr>\n",
       "      <th>4</th>\n",
       "      <td>0</td>\n",
       "      <td>0</td>\n",
       "      <td>0</td>\n",
       "      <td>0</td>\n",
       "      <td>0</td>\n",
       "      <td>0</td>\n",
       "      <td>0</td>\n",
       "      <td>0</td>\n",
       "      <td>0</td>\n",
       "      <td>0</td>\n",
       "      <td>...</td>\n",
       "      <td>0</td>\n",
       "      <td>0</td>\n",
       "      <td>0</td>\n",
       "      <td>0</td>\n",
       "      <td>0</td>\n",
       "      <td>0</td>\n",
       "      <td>1</td>\n",
       "      <td>0</td>\n",
       "      <td>0</td>\n",
       "      <td>0</td>\n",
       "    </tr>\n",
       "    <tr>\n",
       "      <th>...</th>\n",
       "      <td>...</td>\n",
       "      <td>...</td>\n",
       "      <td>...</td>\n",
       "      <td>...</td>\n",
       "      <td>...</td>\n",
       "      <td>...</td>\n",
       "      <td>...</td>\n",
       "      <td>...</td>\n",
       "      <td>...</td>\n",
       "      <td>...</td>\n",
       "      <td>...</td>\n",
       "      <td>...</td>\n",
       "      <td>...</td>\n",
       "      <td>...</td>\n",
       "      <td>...</td>\n",
       "      <td>...</td>\n",
       "      <td>...</td>\n",
       "      <td>...</td>\n",
       "      <td>...</td>\n",
       "      <td>...</td>\n",
       "      <td>...</td>\n",
       "    </tr>\n",
       "    <tr>\n",
       "      <th>59376</th>\n",
       "      <td>0</td>\n",
       "      <td>1</td>\n",
       "      <td>0</td>\n",
       "      <td>0</td>\n",
       "      <td>0</td>\n",
       "      <td>0</td>\n",
       "      <td>0</td>\n",
       "      <td>0</td>\n",
       "      <td>0</td>\n",
       "      <td>0</td>\n",
       "      <td>...</td>\n",
       "      <td>0</td>\n",
       "      <td>0</td>\n",
       "      <td>0</td>\n",
       "      <td>0</td>\n",
       "      <td>0</td>\n",
       "      <td>1</td>\n",
       "      <td>0</td>\n",
       "      <td>0</td>\n",
       "      <td>0</td>\n",
       "      <td>0</td>\n",
       "    </tr>\n",
       "    <tr>\n",
       "      <th>59377</th>\n",
       "      <td>0</td>\n",
       "      <td>0</td>\n",
       "      <td>0</td>\n",
       "      <td>0</td>\n",
       "      <td>0</td>\n",
       "      <td>0</td>\n",
       "      <td>0</td>\n",
       "      <td>0</td>\n",
       "      <td>0</td>\n",
       "      <td>0</td>\n",
       "      <td>...</td>\n",
       "      <td>0</td>\n",
       "      <td>0</td>\n",
       "      <td>0</td>\n",
       "      <td>0</td>\n",
       "      <td>0</td>\n",
       "      <td>0</td>\n",
       "      <td>0</td>\n",
       "      <td>1</td>\n",
       "      <td>0</td>\n",
       "      <td>0</td>\n",
       "    </tr>\n",
       "    <tr>\n",
       "      <th>59378</th>\n",
       "      <td>0</td>\n",
       "      <td>0</td>\n",
       "      <td>0</td>\n",
       "      <td>0</td>\n",
       "      <td>0</td>\n",
       "      <td>0</td>\n",
       "      <td>0</td>\n",
       "      <td>0</td>\n",
       "      <td>0</td>\n",
       "      <td>0</td>\n",
       "      <td>...</td>\n",
       "      <td>0</td>\n",
       "      <td>0</td>\n",
       "      <td>0</td>\n",
       "      <td>0</td>\n",
       "      <td>0</td>\n",
       "      <td>0</td>\n",
       "      <td>0</td>\n",
       "      <td>0</td>\n",
       "      <td>0</td>\n",
       "      <td>1</td>\n",
       "    </tr>\n",
       "    <tr>\n",
       "      <th>59379</th>\n",
       "      <td>0</td>\n",
       "      <td>1</td>\n",
       "      <td>0</td>\n",
       "      <td>0</td>\n",
       "      <td>0</td>\n",
       "      <td>0</td>\n",
       "      <td>0</td>\n",
       "      <td>0</td>\n",
       "      <td>0</td>\n",
       "      <td>0</td>\n",
       "      <td>...</td>\n",
       "      <td>0</td>\n",
       "      <td>0</td>\n",
       "      <td>0</td>\n",
       "      <td>0</td>\n",
       "      <td>0</td>\n",
       "      <td>0</td>\n",
       "      <td>1</td>\n",
       "      <td>0</td>\n",
       "      <td>0</td>\n",
       "      <td>0</td>\n",
       "    </tr>\n",
       "    <tr>\n",
       "      <th>59380</th>\n",
       "      <td>0</td>\n",
       "      <td>0</td>\n",
       "      <td>0</td>\n",
       "      <td>0</td>\n",
       "      <td>0</td>\n",
       "      <td>0</td>\n",
       "      <td>0</td>\n",
       "      <td>0</td>\n",
       "      <td>0</td>\n",
       "      <td>0</td>\n",
       "      <td>...</td>\n",
       "      <td>0</td>\n",
       "      <td>0</td>\n",
       "      <td>0</td>\n",
       "      <td>0</td>\n",
       "      <td>0</td>\n",
       "      <td>0</td>\n",
       "      <td>0</td>\n",
       "      <td>0</td>\n",
       "      <td>0</td>\n",
       "      <td>0</td>\n",
       "    </tr>\n",
       "  </tbody>\n",
       "</table>\n",
       "<p>59381 rows × 821 columns</p>\n",
       "</div>"
      ],
      "text/plain": [
       "       Product_Info_1_2  Product_Info_3_10  Product_Info_3_11  \\\n",
       "0                     0                  1                  0   \n",
       "1                     0                  0                  0   \n",
       "2                     0                  0                  0   \n",
       "3                     0                  1                  0   \n",
       "4                     0                  0                  0   \n",
       "...                 ...                ...                ...   \n",
       "59376                 0                  1                  0   \n",
       "59377                 0                  0                  0   \n",
       "59378                 0                  0                  0   \n",
       "59379                 0                  1                  0   \n",
       "59380                 0                  0                  0   \n",
       "\n",
       "       Product_Info_3_12  Product_Info_3_13  Product_Info_3_15  \\\n",
       "0                      0                  0                  0   \n",
       "1                      0                  0                  0   \n",
       "2                      0                  0                  0   \n",
       "3                      0                  0                  0   \n",
       "4                      0                  0                  0   \n",
       "...                  ...                ...                ...   \n",
       "59376                  0                  0                  0   \n",
       "59377                  0                  0                  0   \n",
       "59378                  0                  0                  0   \n",
       "59379                  0                  0                  0   \n",
       "59380                  0                  0                  0   \n",
       "\n",
       "       Product_Info_3_16  Product_Info_3_17  Product_Info_3_18  \\\n",
       "0                      0                  0                  0   \n",
       "1                      0                  0                  0   \n",
       "2                      0                  0                  0   \n",
       "3                      0                  0                  0   \n",
       "4                      0                  0                  0   \n",
       "...                  ...                ...                ...   \n",
       "59376                  0                  0                  0   \n",
       "59377                  0                  0                  0   \n",
       "59378                  0                  0                  0   \n",
       "59379                  0                  0                  0   \n",
       "59380                  0                  0                  0   \n",
       "\n",
       "       Product_Info_3_19  ...  B2  C1  C2  C3  C4  D1  D2  D3  D4  E1  \n",
       "0                      0  ...   0   0   0   0   0   0   0   1   0   0  \n",
       "1                      0  ...   0   0   0   0   0   0   0   0   0   0  \n",
       "2                      0  ...   0   0   0   0   0   0   0   0   0   1  \n",
       "3                      0  ...   0   0   0   0   0   0   0   0   1   0  \n",
       "4                      0  ...   0   0   0   0   0   0   1   0   0   0  \n",
       "...                  ...  ...  ..  ..  ..  ..  ..  ..  ..  ..  ..  ..  \n",
       "59376                  0  ...   0   0   0   0   0   1   0   0   0   0  \n",
       "59377                  0  ...   0   0   0   0   0   0   0   1   0   0  \n",
       "59378                  0  ...   0   0   0   0   0   0   0   0   0   1  \n",
       "59379                  0  ...   0   0   0   0   0   0   1   0   0   0  \n",
       "59380                  0  ...   0   0   0   0   0   0   0   0   0   0  \n",
       "\n",
       "[59381 rows x 821 columns]"
      ]
     },
     "execution_count": 81,
     "metadata": {},
     "output_type": "execute_result"
    }
   ],
   "source": [
    "one_hot_df"
   ]
  },
  {
   "cell_type": "code",
   "execution_count": 82,
   "id": "d2938d30-35e6-4762-be5e-ebf3b98feceb",
   "metadata": {},
   "outputs": [],
   "source": [
    "col = df.select_dtypes(object).columns\n",
    "\n",
    "for x in col:\n",
    "    df[x] = pd.to_numeric(df[x])\n",
    "    "
   ]
  },
  {
   "cell_type": "code",
   "execution_count": 83,
   "id": "db95f025-3bc5-41c0-b480-ac734f5b6d8b",
   "metadata": {},
   "outputs": [],
   "source": [
    "# df.drop('target', axis = 1, inplace= True)"
   ]
  },
  {
   "cell_type": "markdown",
   "id": "a0dedece-bb8d-4d4a-8420-6d0712469a0f",
   "metadata": {},
   "source": [
    "### Model Building"
   ]
  },
  {
   "cell_type": "code",
   "execution_count": null,
   "id": "1777c149-1def-4192-aab4-42f52f8b10e5",
   "metadata": {},
   "outputs": [],
   "source": [
    "df.drop(['y', 'comp-1', 'comp-2'], axis = 1, inplace = True)"
   ]
  },
  {
   "cell_type": "code",
   "execution_count": null,
   "id": "5f8069e2-cc43-4b27-9f26-e8bd17b8b56e",
   "metadata": {},
   "outputs": [],
   "source": [
    "one_hot_df.drop(['y', 'comp-1', 'comp-2'], axis = 1, inplace = True)"
   ]
  },
  {
   "cell_type": "code",
   "execution_count": 86,
   "id": "b15d27a7-632b-447a-bd9a-96406869f910",
   "metadata": {},
   "outputs": [],
   "source": [
    "neigh = KNeighborsClassifier(n_neighbors=3)\n",
    "rf = RandomForestClassifier(class_weight = 'balanced')\n",
    "model = XGBClassifier(class_weight = 'balanced')\n",
    "# svm = SVC(gamma=10)"
   ]
  },
  {
   "cell_type": "code",
   "execution_count": 112,
   "id": "914f279b-4805-45b4-a641-ca602c3e33bf",
   "metadata": {},
   "outputs": [],
   "source": [
    "X = df\n",
    "y = target\n",
    "le = preprocessing.LabelEncoder()\n",
    "y = le.fit_transform(y)"
   ]
  },
  {
   "cell_type": "code",
   "execution_count": 113,
   "id": "ecaa7f56-960b-4d31-a74f-e50623b45042",
   "metadata": {},
   "outputs": [],
   "source": [
    "X_train, X_test, y_train, y_test = train_test_split(X,y , test_size= 0.20, random_state= 10)"
   ]
  },
  {
   "cell_type": "code",
   "execution_count": 114,
   "id": "9a289409-574f-4d18-8a57-db6d37f34735",
   "metadata": {},
   "outputs": [
    {
     "name": "stdout",
     "output_type": "stream",
     "text": [
      "              precision    recall  f1-score   support\n",
      "\n",
      "           0       0.79      0.51      0.62      7756\n",
      "           1       0.65      0.51      0.57      6626\n",
      "           2       0.46      0.40      0.43       916\n",
      "           3       0.51      0.39      0.44      1508\n",
      "           4       0.47      0.48      0.47      4214\n",
      "           5       0.49      0.62      0.55      7156\n",
      "           6       0.33      0.70      0.45      3068\n",
      "           7       0.76      0.73      0.74     16260\n",
      "\n",
      "    accuracy                           0.60     47504\n",
      "   macro avg       0.56      0.54      0.53     47504\n",
      "weighted avg       0.64      0.60      0.61     47504\n",
      "\n"
     ]
    }
   ],
   "source": [
    "neigh.fit(X_train, y_train)\n",
    "y_pred = neigh.predict(X_train)\n",
    "print(metrics.classification_report(y_pred, y_train))"
   ]
  },
  {
   "cell_type": "code",
   "execution_count": 115,
   "id": "b7acc843-f6ca-4683-92eb-68ffd15074ec",
   "metadata": {},
   "outputs": [
    {
     "name": "stdout",
     "output_type": "stream",
     "text": [
      "              precision    recall  f1-score   support\n",
      "\n",
      "           0       0.27      0.19      0.22      1705\n",
      "           1       0.17      0.15      0.16      1472\n",
      "           2       0.07      0.06      0.06       253\n",
      "           3       0.09      0.06      0.07       423\n",
      "           4       0.12      0.12      0.12      1132\n",
      "           5       0.19      0.25      0.22      1749\n",
      "           6       0.09      0.20      0.13       739\n",
      "           7       0.54      0.48      0.51      4404\n",
      "\n",
      "    accuracy                           0.29     11877\n",
      "   macro avg       0.19      0.19      0.19     11877\n",
      "weighted avg       0.31      0.29      0.30     11877\n",
      "\n"
     ]
    }
   ],
   "source": [
    "neigh.fit(X_train, y_train)\n",
    "y_pred = neigh.predict(X_test)\n",
    "print(metrics.classification_report(y_pred, y_test))"
   ]
  },
  {
   "cell_type": "code",
   "execution_count": 116,
   "id": "925d532b-4385-40dd-80ab-3e85a22e3af6",
   "metadata": {},
   "outputs": [
    {
     "name": "stdout",
     "output_type": "stream",
     "text": [
      "              precision    recall  f1-score   support\n",
      "\n",
      "           0       1.00      1.00      1.00      4995\n",
      "           1       1.00      1.00      1.00      5279\n",
      "           2       1.00      1.00      1.00       804\n",
      "           3       1.00      1.00      1.00      1151\n",
      "           4       1.00      1.00      1.00      4323\n",
      "           5       1.00      1.00      1.00      8955\n",
      "           6       1.00      1.00      1.00      6409\n",
      "           7       1.00      1.00      1.00     15588\n",
      "\n",
      "    accuracy                           1.00     47504\n",
      "   macro avg       1.00      1.00      1.00     47504\n",
      "weighted avg       1.00      1.00      1.00     47504\n",
      "\n"
     ]
    }
   ],
   "source": [
    "rf.fit(X_train, y_train)\n",
    "y_pred = rf.predict(X_train)\n",
    "print(metrics.classification_report(y_pred, y_train))"
   ]
  },
  {
   "cell_type": "code",
   "execution_count": 117,
   "id": "7ab7f41c-0a02-472f-bef4-920dba4ba64f",
   "metadata": {},
   "outputs": [
    {
     "name": "stdout",
     "output_type": "stream",
     "text": [
      "              precision    recall  f1-score   support\n",
      "\n",
      "           0       0.18      0.39      0.24       557\n",
      "           1       0.25      0.43      0.32       751\n",
      "           2       0.05      0.50      0.09        20\n",
      "           3       0.06      0.41      0.11        41\n",
      "           4       0.48      0.52      0.50      1017\n",
      "           5       0.50      0.41      0.45      2802\n",
      "           6       0.33      0.45      0.38      1162\n",
      "           7       0.89      0.63      0.74      5527\n",
      "\n",
      "    accuracy                           0.53     11877\n",
      "   macro avg       0.34      0.47      0.35     11877\n",
      "weighted avg       0.63      0.53      0.56     11877\n",
      "\n"
     ]
    }
   ],
   "source": [
    "rf.fit(X_train, y_train)\n",
    "y_pred = rf.predict(X_test)\n",
    "print(metrics.classification_report(y_pred, y_test))"
   ]
  },
  {
   "cell_type": "code",
   "execution_count": null,
   "id": "543ecd6b-3462-422c-bb65-f0a1e63c2d89",
   "metadata": {},
   "outputs": [],
   "source": [
    "model.fit(X_train, y_train)\n",
    "y_pred = model.predict(X_train)\n",
    "print(metrics.classification_report(y_pred, y_train))"
   ]
  },
  {
   "cell_type": "code",
   "execution_count": null,
   "id": "05f1a6e9-b715-45bf-b42d-89d3f8becfc0",
   "metadata": {},
   "outputs": [],
   "source": [
    "model.fit(X_train, y_train)\n",
    "y_pred = model.predict(X_test)\n",
    "print(metrics.classification_report(y_pred, y_test))"
   ]
  },
  {
   "cell_type": "code",
   "execution_count": null,
   "id": "242ae0b8-7699-4938-8e3b-b8e2a229eaf5",
   "metadata": {},
   "outputs": [],
   "source": [
    "regressor = XGBRegressor()\n",
    "regressor.fit(X_train, y_train)\n",
    "y_pred = regressor.predict(X_train)\n",
    "y_pred = [round(x) for x in y_pred]\n",
    "print(metrics.classification_report(y_pred, y_train))\n",
    "\n",
    "regressor.fit(X_train, y_train)\n",
    "y_pred = regressor.predict(X_test)\n",
    "y_pred = [round(x) for x in y_pred]\n",
    "print(metrics.classification_report(y_pred, y_test))"
   ]
  },
  {
   "cell_type": "code",
   "execution_count": null,
   "id": "5d42b948-9b8f-4404-974d-f143bc103d5e",
   "metadata": {},
   "outputs": [],
   "source": [
    "### One hot"
   ]
  },
  {
   "cell_type": "code",
   "execution_count": null,
   "id": "29799300-39d5-44e2-b069-e7877e67f6ea",
   "metadata": {},
   "outputs": [],
   "source": [
    "X = one_hot_df\n",
    "y = target\n",
    "le = preprocessing.LabelEncoder()\n",
    "y = le.fit_transform(y)"
   ]
  },
  {
   "cell_type": "code",
   "execution_count": null,
   "id": "6fea314d-6153-4249-bdad-8fe6e148c731",
   "metadata": {},
   "outputs": [],
   "source": [
    "X_train, X_test, y_train, y_test = train_test_split(X,y , test_size= 0.20, random_state= 10)"
   ]
  },
  {
   "cell_type": "code",
   "execution_count": 95,
   "id": "aba2ea79-052d-42a1-9d0a-aa19bdd7b3d6",
   "metadata": {},
   "outputs": [
    {
     "name": "stdout",
     "output_type": "stream",
     "text": [
      "              precision    recall  f1-score   support\n",
      "\n",
      "           0       0.78      0.54      0.64      7211\n",
      "           1       0.65      0.55      0.59      6256\n",
      "           2       0.55      0.44      0.49      1010\n",
      "           3       0.50      0.40      0.44      1439\n",
      "           4       0.50      0.53      0.52      4096\n",
      "           5       0.53      0.63      0.57      7525\n",
      "           6       0.37      0.70      0.48      3354\n",
      "           7       0.80      0.75      0.77     16613\n",
      "\n",
      "    accuracy                           0.63     47504\n",
      "   macro avg       0.58      0.57      0.56     47504\n",
      "weighted avg       0.66      0.63      0.64     47504\n",
      "\n",
      "              precision    recall  f1-score   support\n",
      "\n",
      "           0       0.23      0.19      0.20      1465\n",
      "           1       0.18      0.16      0.17      1366\n",
      "           2       0.09      0.07      0.08       244\n",
      "           3       0.11      0.08      0.09       375\n",
      "           4       0.15      0.15      0.15      1089\n",
      "           5       0.23      0.27      0.25      1939\n",
      "           6       0.12      0.24      0.16       824\n",
      "           7       0.61      0.52      0.57      4575\n",
      "\n",
      "    accuracy                           0.32     11877\n",
      "   macro avg       0.21      0.21      0.21     11877\n",
      "weighted avg       0.35      0.32      0.33     11877\n",
      "\n"
     ]
    }
   ],
   "source": [
    "neigh.fit(X_train, y_train)\n",
    "y_pred = neigh.predict(X_train)\n",
    "print(metrics.classification_report(y_pred, y_train))\n",
    "\n",
    "neigh.fit(X_train, y_train)\n",
    "y_pred = neigh.predict(X_test)\n",
    "print(metrics.classification_report(y_pred, y_test))"
   ]
  },
  {
   "cell_type": "code",
   "execution_count": 96,
   "id": "40cd042a-24ca-4c08-b65e-c83dd9ec07fe",
   "metadata": {},
   "outputs": [
    {
     "name": "stdout",
     "output_type": "stream",
     "text": [
      "              precision    recall  f1-score   support\n",
      "\n",
      "           0       1.00      1.00      1.00      4997\n",
      "           1       1.00      1.00      1.00      5279\n",
      "           2       1.00      1.00      1.00       804\n",
      "           3       1.00      1.00      1.00      1151\n",
      "           4       1.00      1.00      1.00      4323\n",
      "           5       1.00      1.00      1.00      8953\n",
      "           6       1.00      1.00      1.00      6409\n",
      "           7       1.00      1.00      1.00     15588\n",
      "\n",
      "    accuracy                           1.00     47504\n",
      "   macro avg       1.00      1.00      1.00     47504\n",
      "weighted avg       1.00      1.00      1.00     47504\n",
      "\n",
      "              precision    recall  f1-score   support\n",
      "\n",
      "           0       0.18      0.40      0.24       536\n",
      "           1       0.23      0.41      0.29       721\n",
      "           2       0.05      0.83      0.09        12\n",
      "           3       0.03      0.50      0.05        14\n",
      "           4       0.45      0.52      0.48       962\n",
      "           5       0.48      0.40      0.44      2713\n",
      "           6       0.27      0.45      0.34       971\n",
      "           7       0.91      0.60      0.72      5948\n",
      "\n",
      "    accuracy                           0.51     11877\n",
      "   macro avg       0.32      0.51      0.33     11877\n",
      "weighted avg       0.65      0.51      0.56     11877\n",
      "\n"
     ]
    }
   ],
   "source": [
    "rf.fit(X_train, y_train)\n",
    "y_pred = rf.predict(X_train)\n",
    "print(metrics.classification_report(y_pred, y_train))\n",
    "\n",
    "rf.fit(X_train, y_train)\n",
    "y_pred = rf.predict(X_test)\n",
    "print(metrics.classification_report(y_pred, y_test))"
   ]
  },
  {
   "cell_type": "code",
   "execution_count": 97,
   "id": "b070bfec-c059-4581-87d3-ec96cfcabd7c",
   "metadata": {},
   "outputs": [
    {
     "name": "stdout",
     "output_type": "stream",
     "text": [
      "[13:43:21] WARNING: C:/Users/administrator/workspace/xgboost-win64_release_1.6.0/src/learner.cc:627: \n",
      "Parameters: { \"class_weight\" } might not be used.\n",
      "\n",
      "  This could be a false alarm, with some parameters getting used by language bindings but\n",
      "  then being mistakenly passed down to XGBoost core, or some parameter actually being used\n",
      "  but getting flagged wrongly here. Please open an issue if you find any such cases.\n",
      "\n",
      "\n",
      "              precision    recall  f1-score   support\n",
      "\n",
      "           0       0.47      0.78      0.58      3022\n",
      "           1       0.46      0.72      0.56      3365\n",
      "           2       0.44      0.89      0.59       400\n",
      "           3       0.41      0.66      0.50       718\n",
      "           4       0.63      0.72      0.67      3768\n",
      "           5       0.61      0.53      0.57     10373\n",
      "           6       0.47      0.58      0.52      5187\n",
      "           7       0.92      0.69      0.79     20671\n",
      "\n",
      "    accuracy                           0.65     47504\n",
      "   macro avg       0.55      0.70      0.60     47504\n",
      "weighted avg       0.71      0.65      0.67     47504\n",
      "\n",
      "[13:46:15] WARNING: C:/Users/administrator/workspace/xgboost-win64_release_1.6.0/src/learner.cc:627: \n",
      "Parameters: { \"class_weight\" } might not be used.\n",
      "\n",
      "  This could be a false alarm, with some parameters getting used by language bindings but\n",
      "  then being mistakenly passed down to XGBoost core, or some parameter actually being used\n",
      "  but getting flagged wrongly here. Please open an issue if you find any such cases.\n",
      "\n",
      "\n",
      "              precision    recall  f1-score   support\n",
      "\n",
      "           0       0.25      0.44      0.32       681\n",
      "           1       0.26      0.40      0.32       834\n",
      "           2       0.10      0.39      0.15        51\n",
      "           3       0.19      0.39      0.26       137\n",
      "           4       0.47      0.55      0.50       955\n",
      "           5       0.51      0.43      0.47      2660\n",
      "           6       0.36      0.46      0.41      1274\n",
      "           7       0.89      0.65      0.75      5285\n",
      "\n",
      "    accuracy                           0.54     11877\n",
      "   macro avg       0.38      0.46      0.40     11877\n",
      "weighted avg       0.62      0.54      0.57     11877\n",
      "\n"
     ]
    }
   ],
   "source": [
    "model.fit(X_train, y_train)\n",
    "y_pred = model.predict(X_train)\n",
    "print(metrics.classification_report(y_pred, y_train))\n",
    "\n",
    "model.fit(X_train, y_train)\n",
    "y_pred = model.predict(X_test)\n",
    "print(metrics.classification_report(y_pred, y_test))"
   ]
  },
  {
   "cell_type": "code",
   "execution_count": 104,
   "id": "64f388f4-1645-418f-8474-f6a83d24a85c",
   "metadata": {},
   "outputs": [
    {
     "name": "stderr",
     "output_type": "stream",
     "text": [
      "C:\\Users\\dkdha\\anaconda3\\lib\\site-packages\\sklearn\\metrics\\_classification.py:1334: UndefinedMetricWarning: Precision and F-score are ill-defined and being set to 0.0 in labels with no predicted samples. Use `zero_division` parameter to control this behavior.\n",
      "  _warn_prf(average, modifier, msg_start, len(result))\n",
      "C:\\Users\\dkdha\\anaconda3\\lib\\site-packages\\sklearn\\metrics\\_classification.py:1334: UndefinedMetricWarning: Precision and F-score are ill-defined and being set to 0.0 in labels with no predicted samples. Use `zero_division` parameter to control this behavior.\n",
      "  _warn_prf(average, modifier, msg_start, len(result))\n",
      "C:\\Users\\dkdha\\anaconda3\\lib\\site-packages\\sklearn\\metrics\\_classification.py:1334: UndefinedMetricWarning: Precision and F-score are ill-defined and being set to 0.0 in labels with no predicted samples. Use `zero_division` parameter to control this behavior.\n",
      "  _warn_prf(average, modifier, msg_start, len(result))\n"
     ]
    },
    {
     "name": "stdout",
     "output_type": "stream",
     "text": [
      "              precision    recall  f1-score   support\n",
      "\n",
      "          -2       0.00      0.00      0.00         8\n",
      "          -1       0.00      0.00      0.00        73\n",
      "           0       0.09      0.73      0.16       603\n",
      "           1       0.16      0.47      0.24      1790\n",
      "           2       0.17      0.05      0.07      3025\n",
      "           3       0.10      0.02      0.04      5287\n",
      "           4       0.36      0.18      0.24      8865\n",
      "           5       0.37      0.30      0.33     10953\n",
      "           6       0.31      0.17      0.22     12042\n",
      "           7       0.27      0.88      0.42      4857\n",
      "           8       0.00      0.00      0.00         1\n",
      "\n",
      "    accuracy                           0.27     47504\n",
      "   macro avg       0.17      0.25      0.16     47504\n",
      "weighted avg       0.29      0.27      0.24     47504\n",
      "\n",
      "              precision    recall  f1-score   support\n",
      "\n",
      "          -5       0.00      0.00      0.00         1\n",
      "          -3       0.00      0.00      0.00         1\n",
      "          -2       0.00      0.00      0.00         2\n",
      "          -1       0.00      0.00      0.00        26\n",
      "           0       0.06      0.58      0.10       115\n",
      "           1       0.12      0.40      0.19       395\n",
      "           2       0.09      0.02      0.04       741\n",
      "           3       0.11      0.02      0.04      1278\n",
      "           4       0.36      0.17      0.23      2329\n",
      "           5       0.34      0.28      0.30      2794\n",
      "           6       0.30      0.16      0.21      3024\n",
      "           7       0.26      0.86      0.40      1166\n",
      "           8       0.00      0.00      0.00         5\n",
      "\n",
      "    accuracy                           0.25     11877\n",
      "   macro avg       0.13      0.19      0.12     11877\n",
      "weighted avg       0.27      0.25      0.22     11877\n",
      "\n"
     ]
    },
    {
     "name": "stderr",
     "output_type": "stream",
     "text": [
      "C:\\Users\\dkdha\\anaconda3\\lib\\site-packages\\sklearn\\metrics\\_classification.py:1334: UndefinedMetricWarning: Precision and F-score are ill-defined and being set to 0.0 in labels with no predicted samples. Use `zero_division` parameter to control this behavior.\n",
      "  _warn_prf(average, modifier, msg_start, len(result))\n",
      "C:\\Users\\dkdha\\anaconda3\\lib\\site-packages\\sklearn\\metrics\\_classification.py:1334: UndefinedMetricWarning: Precision and F-score are ill-defined and being set to 0.0 in labels with no predicted samples. Use `zero_division` parameter to control this behavior.\n",
      "  _warn_prf(average, modifier, msg_start, len(result))\n",
      "C:\\Users\\dkdha\\anaconda3\\lib\\site-packages\\sklearn\\metrics\\_classification.py:1334: UndefinedMetricWarning: Precision and F-score are ill-defined and being set to 0.0 in labels with no predicted samples. Use `zero_division` parameter to control this behavior.\n",
      "  _warn_prf(average, modifier, msg_start, len(result))\n"
     ]
    }
   ],
   "source": [
    "regressor = XGBRegressor()\n",
    "regressor.fit(X_train, y_train)\n",
    "y_pred = regressor.predict(X_train)\n",
    "y_pred = [round(x) for x in y_pred]\n",
    "print(metrics.classification_report(y_pred, y_train))\n",
    "\n",
    "regressor.fit(X_train, y_train)\n",
    "y_pred = regressor.predict(X_test)\n",
    "y_pred = [round(x) for x in y_pred]\n",
    "print(metrics.classification_report(y_pred, y_test))"
   ]
  },
  {
   "cell_type": "code",
   "execution_count": 129,
   "id": "59cbba20-da1c-4699-9b3e-dba7bd8dfdc0",
   "metadata": {},
   "outputs": [],
   "source": [
    "models_df = pd.DataFrame({'Models':['Random Forest', 'KNN', 'XGBoost' ], 'Train_Score' :[100, 63, 65] , 'Test_Score' :[51,32,54]})\n",
    "models_onehot_df = pd.DataFrame({'Models':['Random Forest', 'KNN', 'XGBoost' ], 'Train_Score' :[100, 60, 68] , 'Test_Score' :[53,29,54]})"
   ]
  },
  {
   "cell_type": "code",
   "execution_count": 111,
   "id": "af115194-c838-4dbd-82a6-972eb2307234",
   "metadata": {},
   "outputs": [
    {
     "name": "stderr",
     "output_type": "stream",
     "text": [
      "C:\\Users\\dkdha\\anaconda3\\lib\\site-packages\\seaborn\\_decorators.py:36: FutureWarning: Pass the following variables as keyword args: x, y. From version 0.12, the only valid positional argument will be `data`, and passing other arguments without an explicit keyword will result in an error or misinterpretation.\n",
      "  warnings.warn(\n"
     ]
    },
    {
     "data": {
      "text/plain": [
       "<AxesSubplot:xlabel='Train_Score', ylabel='Models'>"
      ]
     },
     "execution_count": 111,
     "metadata": {},
     "output_type": "execute_result"
    },
    {
     "data": {
      "image/png": "[encoded data removed]",
      "text/plain": [
       "<Figure size 432x288 with 1 Axes>"
      ]
     },
     "metadata": {
      "needs_background": "light"
     },
     "output_type": "display_data"
    }
   ],
   "source": [
    "sns.barplot(models_df['Train_Score'], models_df['Models'])"
   ]
  },
  {
   "cell_type": "code",
   "execution_count": 112,
   "id": "39fb607d-0c2c-41da-af5f-afb0bf9d1fe0",
   "metadata": {},
   "outputs": [
    {
     "name": "stderr",
     "output_type": "stream",
     "text": [
      "C:\\Users\\dkdha\\anaconda3\\lib\\site-packages\\seaborn\\_decorators.py:36: FutureWarning: Pass the following variables as keyword args: x, y. From version 0.12, the only valid positional argument will be `data`, and passing other arguments without an explicit keyword will result in an error or misinterpretation.\n",
      "  warnings.warn(\n"
     ]
    },
    {
     "data": {
      "text/plain": [
       "<AxesSubplot:xlabel='Test_Score', ylabel='Models'>"
      ]
     },
     "execution_count": 112,
     "metadata": {},
     "output_type": "execute_result"
    },
    {
     "data": {
      "image/png": "[encoded data removed]",
      "text/plain": [
       "<Figure size 432x288 with 1 Axes>"
      ]
     },
     "metadata": {
      "needs_background": "light"
     },
     "output_type": "display_data"
    }
   ],
   "source": [
    "sns.barplot(models_df['Test_Score'], models_df['Models'])"
   ]
  },
  {
   "cell_type": "code",
   "execution_count": 114,
   "id": "ebfde575-2ed6-430a-9319-8db5b7745ce9",
   "metadata": {},
   "outputs": [
    {
     "name": "stderr",
     "output_type": "stream",
     "text": [
      "C:\\Users\\dkdha\\anaconda3\\lib\\site-packages\\seaborn\\_decorators.py:36: FutureWarning: Pass the following variables as keyword args: x, y. From version 0.12, the only valid positional argument will be `data`, and passing other arguments without an explicit keyword will result in an error or misinterpretation.\n",
      "  warnings.warn(\n"
     ]
    },
    {
     "data": {
      "text/plain": [
       "<AxesSubplot:xlabel='Train_Score', ylabel='Models'>"
      ]
     },
     "execution_count": 114,
     "metadata": {},
     "output_type": "execute_result"
    },
    {
     "data": {
      "image/png": "[encoded data removed]",
      "text/plain": [
       "<Figure size 432x288 with 1 Axes>"
      ]
     },
     "metadata": {
      "needs_background": "light"
     },
     "output_type": "display_data"
    }
   ],
   "source": [
    "sns.barplot(models_onehot_df['Train_Score'], models_onehot_df['Models'])"
   ]
  },
  {
   "cell_type": "code",
   "execution_count": 115,
   "id": "69e8a2ac-ccde-45f8-adf4-644a2d9fde7b",
   "metadata": {},
   "outputs": [
    {
     "name": "stderr",
     "output_type": "stream",
     "text": [
      "C:\\Users\\dkdha\\anaconda3\\lib\\site-packages\\seaborn\\_decorators.py:36: FutureWarning: Pass the following variables as keyword args: x, y. From version 0.12, the only valid positional argument will be `data`, and passing other arguments without an explicit keyword will result in an error or misinterpretation.\n",
      "  warnings.warn(\n"
     ]
    },
    {
     "data": {
      "text/plain": [
       "<AxesSubplot:xlabel='Test_Score', ylabel='Models'>"
      ]
     },
     "execution_count": 115,
     "metadata": {},
     "output_type": "execute_result"
    },
    {
     "data": {
      "image/png": "[encoded data removed]",
      "text/plain": [
       "<Figure size 432x288 with 1 Axes>"
      ]
     },
     "metadata": {
      "needs_background": "light"
     },
     "output_type": "display_data"
    }
   ],
   "source": [
    "sns.barplot(models_onehot_df['Test_Score'], models_onehot_df['Models'])"
   ]
  },
  {
   "cell_type": "code",
   "execution_count": 116,
   "id": "9922aac4-dd20-41bf-8a3e-be3de4e1e99a",
   "metadata": {},
   "outputs": [],
   "source": [
    "xgb_df = pd.DataFrame({'Models':['XGB Regressor'], 'Train_Score' :[29] , 'Test_Score' :[26]})\n",
    "xgb_onehot_df = pd.DataFrame({'Models':['XGB Regressor'], 'Train_Score' :[27] , 'Test_Score' :[25]})\n"
   ]
  },
  {
   "cell_type": "code",
   "execution_count": 126,
   "id": "2731deb4-389c-430b-a5cb-09bb05beba2b",
   "metadata": {},
   "outputs": [
    {
     "data": {
      "text/plain": [
       "Text(0.5, 1.0, 'Without Encoding')"
      ]
     },
     "execution_count": 126,
     "metadata": {},
     "output_type": "execute_result"
    },
    {
     "data": {
      "image/png": "[encoded data removed]",
      "text/plain": [
       "<Figure size 432x288 with 1 Axes>"
      ]
     },
     "metadata": {
      "needs_background": "light"
     },
     "output_type": "display_data"
    }
   ],
   "source": [
    "sns.barplot(x = [29,26], y = ['Trainscore', 'Testscore']).set_title(\"Without Encoding\")"
   ]
  },
  {
   "cell_type": "code",
   "execution_count": 127,
   "id": "1de05840-64b4-44fb-bb07-7eb09adaf8c7",
   "metadata": {},
   "outputs": [
    {
     "data": {
      "text/plain": [
       "Text(0.5, 1.0, 'With Encoding')"
      ]
     },
     "execution_count": 127,
     "metadata": {},
     "output_type": "execute_result"
    },
    {
     "data": {
      "image/png": "[encoded data removed]",
      "text/plain": [
       "<Figure size 432x288 with 1 Axes>"
      ]
     },
     "metadata": {
      "needs_background": "light"
     },
     "output_type": "display_data"
    }
   ],
   "source": [
    "sns.barplot(x = [27,25], y = ['Trainscore', 'Testscore']).set_title(\"With Encoding\")"
   ]
  },
  {
   "cell_type": "markdown",
   "id": "8e381e5c-9f47-45cb-a5b0-00ef0c4db053",
   "metadata": {},
   "source": [
    "### Gridsearch"
   ]
  },
  {
   "cell_type": "code",
   "execution_count": 3,
   "id": "debf7fa9-aca9-46b8-b91c-0fb1f82c74fc",
   "metadata": {},
   "outputs": [],
   "source": [
    "clf = RandomForestClassifier()"
   ]
  },
  {
   "cell_type": "code",
   "execution_count": 8,
   "id": "95189db6-200d-498c-8fcd-20e26ea0493e",
   "metadata": {},
   "outputs": [],
   "source": [
    "X = df\n",
    "y = target\n",
    "le = preprocessing.LabelEncoder()\n",
    "y = le.fit_transform(y)\n",
    "\n",
    "X_train, X_test, y_train, y_test = train_test_split(X,y , test_size= 0.20, random_state= 10)"
   ]
  },
  {
   "cell_type": "code",
   "execution_count": null,
   "id": "8fd2f5b6-55fd-423d-b5c3-8b61103c8a3e",
   "metadata": {},
   "outputs": [
    {
     "name": "stdout",
     "output_type": "stream",
     "text": [
      "Fitting 4 folds for each of 350 candidates, totalling 1400 fits\n"
     ]
    }
   ],
   "source": [
    "grid_search.fit(X_train, y_train)"
   ]
  },
  {
   "cell_type": "code",
   "execution_count": 90,
   "id": "b8dded99-4664-419a-b6b6-ccb6abce82c1",
   "metadata": {},
   "outputs": [],
   "source": [
    "n_estimators = [ 10,40, 80, 100]\n",
    "max_depth =  [2, 5, 10,]\n",
    "min_samples_leaf= [5,20, 50, 100]\n",
    "criterion = [\"gini\", \"entropy\"]"
   ]
  },
  {
   "cell_type": "code",
   "execution_count": 91,
   "id": "7df69718",
   "metadata": {},
   "outputs": [],
   "source": [
    "trainscore = []\n",
    "testscore = []\n",
    "lst = []"
   ]
  },
  {
   "cell_type": "code",
   "execution_count": 92,
   "id": "3b46ba15",
   "metadata": {},
   "outputs": [],
   "source": [
    "from sklearn.metrics import accuracy_score"
   ]
  },
  {
   "cell_type": "code",
   "execution_count": 95,
   "id": "d64eedbb",
   "metadata": {},
   "outputs": [],
   "source": [
    "for x in n_estimators:\n",
    "    for y in max_depth:\n",
    "        for z in min_samples_leaf:\n",
    "            for a in criterion:\n",
    "                model = RandomForestClassifier(criterion= a, min_samples_leaf=z, max_depth = y,\n",
    "                                                          n_estimators = x)\n",
    "                lst.append((x,y,z,a))\n",
    "                \n",
    "                model.fit(X_train, y_train)\n",
    "                y_pred = model.predict(X_train)\n",
    "                trainscore.append(accuracy_score(y_pred, y_train))\n",
    "                \n",
    "                model.fit(X_train, y_train)\n",
    "                y_pred = model.predict(X_test)\n",
    "                testscore.append(accuracy_score(y_pred, y_test))\n",
    "                \n",
    "    "
   ]
  },
  {
   "cell_type": "code",
   "execution_count": 100,
   "id": "7882b064",
   "metadata": {},
   "outputs": [],
   "source": [
    "diff = np.array(trainscore) - np.array(testscore)"
   ]
  },
  {
   "cell_type": "code",
   "execution_count": 104,
   "id": "d881a1cb",
   "metadata": {},
   "outputs": [
    {
     "data": {
      "text/plain": [
       "83"
      ]
     },
     "execution_count": 104,
     "metadata": {},
     "output_type": "execute_result"
    }
   ],
   "source": [
    "list(diff).index(0.00010037308991767135)"
   ]
  },
  {
   "cell_type": "code",
   "execution_count": 105,
   "id": "70393d29",
   "metadata": {},
   "outputs": [
    {
     "data": {
      "text/plain": [
       "0.44213118895250925"
      ]
     },
     "execution_count": 105,
     "metadata": {},
     "output_type": "execute_result"
    }
   ],
   "source": [
    "trainscore[83]"
   ]
  },
  {
   "cell_type": "code",
   "execution_count": 106,
   "id": "2aaa3f58",
   "metadata": {},
   "outputs": [
    {
     "data": {
      "text/plain": [
       "0.4420308158625916"
      ]
     },
     "execution_count": 106,
     "metadata": {},
     "output_type": "execute_result"
    }
   ],
   "source": [
    "testscore[83]"
   ]
  },
  {
   "cell_type": "code",
   "execution_count": 107,
   "id": "99f75e95",
   "metadata": {},
   "outputs": [
    {
     "data": {
      "text/plain": [
       "(100, 5, 20, 'entropy')"
      ]
     },
     "execution_count": 107,
     "metadata": {},
     "output_type": "execute_result"
    }
   ],
   "source": [
    "lst[83]"
   ]
  }
 ],
 "metadata": {
  "kernelspec": {
   "display_name": "Python 3 (ipykernel)",
   "language": "python",
   "name": "python3"
  },
  "language_info": {
   "codemirror_mode": {
    "name": "ipython",
    "version": 3
   },
   "file_extension": ".py",
   "mimetype": "text/x-python",
   "name": "python",
   "nbconvert_exporter": "python",
   "pygments_lexer": "ipython3",
   "version": "3.9.13"
  }
 },
 "nbformat": 4,
 "nbformat_minor": 5
}
